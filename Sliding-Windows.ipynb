{
 "cells": [
  {
   "cell_type": "code",
   "execution_count": 1,
   "id": "001e0eef",
   "metadata": {},
   "outputs": [],
   "source": [
    "# Import the necessary packages\n",
    "import cv2\n",
    "import imutils\n",
    "import time\n",
    "\n",
    "def pyramid(image, scale=1.5, minSize=(30, 30)):\n",
    "    # Yield the original image\n",
    "    yield image\n",
    "    \n",
    "    # Loop over the pyramid\n",
    "    while True:\n",
    "        # Compute the new dimensions of the image and resize it\n",
    "        w = int(image.shape[1] / scale)\n",
    "        image = imutils.resize(image, width=w)\n",
    "        \n",
    "        # Here resize function of imutils automatically preserves the aspect ratio of the input image\n",
    "        # SO NO NEED TO COMPUTE THE HEIGHT AS WELL\n",
    "        \n",
    "        # Check the resized image if it does not meet the minimum size provided, then stop constructing the pyramid\n",
    "        if image.shape[0] < minSize[0] or image.shape[1] < minSize[1]:\n",
    "            break\n",
    "            \n",
    "        # Yield the next image in the pyramid\n",
    "        yield image\n",
    "        \n",
    "def sliding_window(image, stepSize, windowSize):\n",
    "    # Slide a window across the image\n",
    "    for y in range(0, image.shape[0], stepSize):\n",
    "        for x in range(0, image.shape[1], stepSize):\n",
    "            # Yield the current window\n",
    "            yield (x, y, image[y:y + windowSize[0], x:x + windowSize[1]])"
   ]
  },
  {
   "cell_type": "code",
   "execution_count": 2,
   "id": "5c4dc3ae",
   "metadata": {},
   "outputs": [],
   "source": [
    "# Load the image\n",
    "image = cv2.imread(\"C:/Users/fatih.gokmenoglu/Downloads/replicant-or-not/Rachel Rosen/00000001_.jpg\")\n",
    "\n",
    "(winH, winW) = (128, 128)"
   ]
  },
  {
   "cell_type": "code",
   "execution_count": 3,
   "id": "edaa7bce",
   "metadata": {},
   "outputs": [],
   "source": [
    "# Loop over the pyramid\n",
    "for resized in pyramid(image, scale=1.5):\n",
    "    # Loop over the sliding window for each layer of the pyramid\n",
    "    for (x, y, window) in sliding_window(resized, stepSize=32, windowSize=(winH, winW)):\n",
    "        # If the window does not meet the desired window size, ignore it\n",
    "        if window.shape[0] != winH or window.shape[1] != winW:\n",
    "            continue\n",
    "        \n",
    "        # Draw the window\n",
    "        clone = resized.copy()\n",
    "        cv2.rectangle(clone, (x, y), (x + winW, y + winH), (255, 0, 0), 2)\n",
    "        cv2.imshow(\"Window\", clone)\n",
    "        cv2.waitKey(1)\n",
    "        time.sleep(0.025)\n",
    "\n",
    "cv2.destroyAllWindows()"
   ]
  }
 ],
 "metadata": {
  "kernelspec": {
   "display_name": "Python 3 (ipykernel)",
   "language": "python",
   "name": "python3"
  },
  "language_info": {
   "codemirror_mode": {
    "name": "ipython",
    "version": 3
   },
   "file_extension": ".py",
   "mimetype": "text/x-python",
   "name": "python",
   "nbconvert_exporter": "python",
   "pygments_lexer": "ipython3",
   "version": "3.9.13"
  }
 },
 "nbformat": 4,
 "nbformat_minor": 5
}
