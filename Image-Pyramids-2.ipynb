{
 "cells": [
  {
   "cell_type": "code",
   "execution_count": 1,
   "id": "99bcb93e",
   "metadata": {},
   "outputs": [],
   "source": [
    "# Import the necessary packages\n",
    "import cv2\n",
    "import imutils\n",
    "\n",
    "def pyramid(image, scale=1.5, minSize=(30, 30)):\n",
    "    # Yield the original image\n",
    "    yield image\n",
    "    \n",
    "    # Loop over the pyramid\n",
    "    while True:\n",
    "        # Compute the new dimensions of the image and resize it\n",
    "        w = int(image.shape[1] / scale)\n",
    "        image = imutils.resize(image, width=w)\n",
    "        \n",
    "        # Here resize function of imutils automatically preserves the aspect ratio of the input image\n",
    "        # SO NO NEED TO COMPUTE THE HEIGHT AS WELL\n",
    "        \n",
    "        # Check the resized image if it does not meet the minimum size provided, then stop constructing the pyramid\n",
    "        if image.shape[0] < minSize[0] or image.shape[1] < minSize[1]:\n",
    "            break\n",
    "            \n",
    "        # Yield the next image in the pyramid\n",
    "        yield image"
   ]
  },
  {
   "cell_type": "code",
   "execution_count": 2,
   "id": "fc3fdb51",
   "metadata": {},
   "outputs": [],
   "source": [
    "# Load the image\n",
    "image = cv2.imread(\"C:/Users/fatih.gokmenoglu/Downloads/replicant-or-not/Rachel Rosen/00000001.jpg\")"
   ]
  },
  {
   "cell_type": "code",
   "execution_count": 3,
   "id": "3981959f",
   "metadata": {},
   "outputs": [],
   "source": [
    "# Loop over the image pyramid\n",
    "for (i, resized) in enumerate(pyramid(image)):\n",
    "    cv2.imshow(f\"Layer {i}\", resized)\n",
    "    cv2.waitKey()\n",
    "    \n",
    "# Close all windows\n",
    "cv2.destroyAllWindows()"
   ]
  }
 ],
 "metadata": {
  "kernelspec": {
   "display_name": "Python 3 (ipykernel)",
   "language": "python",
   "name": "python3"
  },
  "language_info": {
   "codemirror_mode": {
    "name": "ipython",
    "version": 3
   },
   "file_extension": ".py",
   "mimetype": "text/x-python",
   "name": "python",
   "nbconvert_exporter": "python",
   "pygments_lexer": "ipython3",
   "version": "3.9.13"
  }
 },
 "nbformat": 4,
 "nbformat_minor": 5
}
