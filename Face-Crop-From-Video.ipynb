{
 "cells": [
  {
   "cell_type": "code",
   "execution_count": 62,
   "id": "32161f5f",
   "metadata": {},
   "outputs": [],
   "source": [
    "from glob import glob\n",
    "import os\n",
    "import cv2\n",
    "from tqdm import tqdm\n",
    "import numpy as np\n",
    "import shutil\n",
    "import json\n",
    "import sys\n",
    "import argparse\n",
    "import dlib\n",
    "from imutils import face_utils\n",
    "import glob"
   ]
  },
  {
   "cell_type": "code",
   "execution_count": 77,
   "id": "481934b2",
   "metadata": {},
   "outputs": [
    {
     "name": "stdout",
     "output_type": "stream",
     "text": [
      "474\n"
     ]
    }
   ],
   "source": [
    "org_path = 'C:/Users/fatih.gokmenoglu/Downloads/Celeb-DF-v2/YouTube-real/00013.mp4'\n",
    "cap_org = cv2.VideoCapture(org_path)\n",
    "frame_count_org = int(cap_org.get(cv2.CAP_PROP_FRAME_COUNT))\n",
    "print(frame_count_org)\n",
    "croppedfaces = []\n",
    "num_frames = 2\n",
    "frame_idxs = np.linspace(0, frame_count_org - 1, num_frames, endpoint=True, dtype=int)\n",
    "face_detector = dlib.get_frontal_face_detector()\n",
    "predictor_path = 'C:/Users/fatih.gokmenoglu/Downloads/src/preprocess/shape_predictor_81_face_landmarks.dat'\n",
    "face_predictor = dlib.shape_predictor(predictor_path)\n",
    "win = dlib.image_window()"
   ]
  },
  {
   "cell_type": "code",
   "execution_count": 78,
   "id": "f323baa6",
   "metadata": {},
   "outputs": [],
   "source": [
    "for cnt_frame in range(frame_count_org): \n",
    "        ret_org, frame_org = cap_org.read()\n",
    "        #print(type(ret_org)) # <class 'bool'>\n",
    "        \n",
    "        #cv2.imshow('frame_org', frame_org)\n",
    "        #cv2.waitKey(0)\n",
    "        #cv2.destroyAllWindows()\n",
    "        \n",
    "        height,width=frame_org.shape[:-1]\n",
    "        \n",
    "        if not ret_org:\n",
    "            tqdm.write('Frame read {} Error! : {}'.format(cnt_frame,os.path.basename(org_path)))\n",
    "            break\n",
    "        \n",
    "        if cnt_frame not in frame_idxs:\n",
    "            continue\n",
    "        \n",
    "        frame = cv2.cvtColor(frame_org, cv2.COLOR_BGR2RGB)\n",
    "        win.clear_overlay()\n",
    "        win.set_image(frame)\n",
    "\n",
    "        faces = face_detector(frame, 1)\n",
    "        #print(len(faces))\n",
    "        \n",
    "        if len(faces) == 0:\n",
    "            tqdm.write('No faces in {}:{}'.format(cnt_frame,os.path.basename(org_path)))\n",
    "            continue\n",
    "            \n",
    "        face_s_max = -1\n",
    "        landmarks = []\n",
    "        landmarks_ = []\n",
    "        size_list = []\n",
    "        \n",
    "        for face_idx in range(len(faces)):\n",
    "            landmark = face_predictor(frame, faces[face_idx])\n",
    "            landmarks_.append(landmark)\n",
    "            landmark = face_utils.shape_to_np(landmark)\n",
    "            x0,y0=landmark[:,0].min(),landmark[:,1].min()\n",
    "            x1,y1=landmark[:,0].max(),landmark[:,1].max()\n",
    "            face_s=(x1-x0)*(y1-y0)\n",
    "            size_list.append(face_s)\n",
    "            landmarks.append(landmark)\n",
    "            \n",
    "        landmarks=np.concatenate(landmarks).reshape((len(size_list),)+landmark.shape)\n",
    "        landmarks=landmarks[np.argsort(np.array(size_list))[::-1]]"
   ]
  },
  {
   "cell_type": "code",
   "execution_count": 79,
   "id": "2c46c4a4",
   "metadata": {},
   "outputs": [],
   "source": [
    "cap_org.release()"
   ]
  },
  {
   "cell_type": "code",
   "execution_count": 80,
   "id": "0d5fe7c1",
   "metadata": {},
   "outputs": [],
   "source": [
    "for landmarks_idx in range(len(landmarks_)):\n",
    "    win.add_overlay(landmarks_[landmarks_idx])"
   ]
  },
  {
   "cell_type": "code",
   "execution_count": 82,
   "id": "671d475c",
   "metadata": {
    "collapsed": true
   },
   "outputs": [
    {
     "name": "stdout",
     "output_type": "stream",
     "text": [
      "[[336 112]\n",
      " [336 129]\n",
      " [336 147]\n",
      " [338 164]\n",
      " [341 182]\n",
      " [348 197]\n",
      " [358 211]\n",
      " [372 222]\n",
      " [390 226]\n",
      " [409 226]\n",
      " [428 219]\n",
      " [444 208]\n",
      " [457 194]\n",
      " [465 177]\n",
      " [470 160]\n",
      " [474 141]\n",
      " [478 122]\n",
      " [345 105]\n",
      " [354  98]\n",
      " [366  98]\n",
      " [378 101]\n",
      " [389 107]\n",
      " [411 108]\n",
      " [425 103]\n",
      " [438 102]\n",
      " [452 104]\n",
      " [462 113]\n",
      " [398 119]\n",
      " [396 130]\n",
      " [394 141]\n",
      " [392 153]\n",
      " [381 159]\n",
      " [386 162]\n",
      " [393 165]\n",
      " [400 163]\n",
      " [407 161]\n",
      " [358 118]\n",
      " [366 114]\n",
      " [375 115]\n",
      " [382 121]\n",
      " [373 123]\n",
      " [364 122]\n",
      " [419 124]\n",
      " [427 119]\n",
      " [437 119]\n",
      " [444 124]\n",
      " [437 127]\n",
      " [427 127]\n",
      " [370 180]\n",
      " [378 176]\n",
      " [386 174]\n",
      " [393 176]\n",
      " [400 175]\n",
      " [409 179]\n",
      " [420 185]\n",
      " [409 192]\n",
      " [399 194]\n",
      " [391 194]\n",
      " [384 192]\n",
      " [376 188]\n",
      " [374 181]\n",
      " [385 180]\n",
      " [392 182]\n",
      " [400 182]\n",
      " [415 185]\n",
      " [399 184]\n",
      " [392 184]\n",
      " [385 183]\n",
      " [355  58]\n",
      " [368  56]\n",
      " [386  62]\n",
      " [409  64]\n",
      " [446  61]\n",
      " [463  68]\n",
      " [475  95]\n",
      " [343  78]\n",
      " [351  64]\n",
      " [336 107]\n",
      " [478 116]\n",
      " [467  76]\n",
      " [435  65]]\n"
     ]
    }
   ],
   "source": [
    "for landmarks_idx in range(len(landmarks)):\n",
    "    print(landmarks[landmarks_idx])"
   ]
  },
  {
   "cell_type": "code",
   "execution_count": null,
   "id": "445cac3b",
   "metadata": {},
   "outputs": [],
   "source": []
  }
 ],
 "metadata": {
  "kernelspec": {
   "display_name": "Python 3 (ipykernel)",
   "language": "python",
   "name": "python3"
  },
  "language_info": {
   "codemirror_mode": {
    "name": "ipython",
    "version": 3
   },
   "file_extension": ".py",
   "mimetype": "text/x-python",
   "name": "python",
   "nbconvert_exporter": "python",
   "pygments_lexer": "ipython3",
   "version": "3.9.13"
  }
 },
 "nbformat": 4,
 "nbformat_minor": 5
}
