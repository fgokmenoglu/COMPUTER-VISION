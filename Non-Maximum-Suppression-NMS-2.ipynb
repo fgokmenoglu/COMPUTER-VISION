{
 "cells": [
  {
   "cell_type": "code",
   "execution_count": 4,
   "id": "380a5caf",
   "metadata": {},
   "outputs": [],
   "source": [
    "# Import libraries\n",
    "import torch"
   ]
  },
  {
   "cell_type": "code",
   "execution_count": 9,
   "id": "bc650a59",
   "metadata": {},
   "outputs": [],
   "source": [
    "# Define non-maximum suppression function\n",
    "def nms_pytorch(P : torch.tensor, threshIoU : float):\n",
    "    # Extract coordinates for every prediction box present in P\n",
    "    x1 = P[:, 0]\n",
    "    y1 = P[:, 1]\n",
    "    x2 = P[:, 2]\n",
    "    y2 = P[:, 3]\n",
    "    \n",
    "    # Extract the confidence score as well\n",
    "    scores = P[:, 4]\n",
    "    \n",
    "    # Calculate the area of every bounding box in P\n",
    "    areas = (x2 - x1) * (y2 - y1)\n",
    "    \n",
    "    # Sort the bounding boxes in P according to their confidence scores\n",
    "    order = scores.argsort()\n",
    "    \n",
    "    # Initialize an empty list to keep filtered bounding boxes\n",
    "    keep = []\n",
    "    \n",
    "    while len(order) > 0:\n",
    "        # Extract the index of the bounding box with highest confidence score\n",
    "        idx = order[-1]\n",
    "        \n",
    "        # Append that bounding box to filtered predictions list\n",
    "        keep.append(P[idx])\n",
    "        \n",
    "        # Remove that bouding box from P\n",
    "        order = order[:-1]\n",
    "        \n",
    "        # Select coordinates of bounding boxes according to the indices in order\n",
    "        xx1 = torch.index_select(x1, dim=0, index=order)\n",
    "        xx2 = torch.index_select(x2, dim=0, index=order)\n",
    "        yy1 = torch.index_select(y1, dim=0, index=order)\n",
    "        yy2 = torch.index_select(y2, dim=0, index=order)\n",
    "        \n",
    "        # Find the coordinates of the intersection boxes\n",
    "        xx1 = torch.max(xx1, x1[idx])\n",
    "        yy1 = torch.max(yy1, y1[idx])\n",
    "        xx2 = torch.min(xx2, x2[idx])\n",
    "        yy2 = torch.min(yy2, y2[idx])\n",
    "        \n",
    "        # Find the height and width of the intersection boxes\n",
    "        w = xx2 - xx1\n",
    "        h = yy2 - yy1\n",
    "        \n",
    "        # Take max with 0.0 to avoid negative w and h due to non-overlapping boxes\n",
    "        w = torch.clamp(w, min=0.0)\n",
    "        h = torch.clamp(h, min=0.0)\n",
    "        \n",
    "        # Find the area of the intersection boxes\n",
    "        inter = w * h\n",
    "        \n",
    "        # Find the areas of bounding boxes according to the indices in order\n",
    "        remAreas = torch.index_select(areas, dim=0, index=order)\n",
    "        \n",
    "        # Find the union of every prediction in P with the prediction that has the highest confidence score\n",
    "        union = (remAreas - inter) + areas[idx]\n",
    "        \n",
    "        # Find the IoU of every prediction in P with the prediction that has the highest confidence score\n",
    "        IoU = inter / union\n",
    "        \n",
    "        # Keep the boxes with IoU less than thresh_iou\n",
    "        mask = IoU < threshIoU\n",
    "        order = order[mask]\n",
    "        \n",
    "    return keep"
   ]
  },
  {
   "cell_type": "code",
   "execution_count": 6,
   "id": "4ecce57b",
   "metadata": {},
   "outputs": [],
   "source": [
    "P = torch.tensor([\n",
    "    [1, 1, 3, 3, 0.95],\n",
    "    [1, 1, 3, 4, 0.93],\n",
    "    [1, 0.9, 3.6, 3, 0.98],\n",
    "    [1, 0.9, 3.5, 3, 0.97]\n",
    "])"
   ]
  },
  {
   "cell_type": "code",
   "execution_count": 12,
   "id": "efebcb79",
   "metadata": {},
   "outputs": [
    {
     "name": "stdout",
     "output_type": "stream",
     "text": [
      "[]\n"
     ]
    }
   ],
   "source": [
    "filteredBoxes = []\n",
    "print(filteredBoxes)"
   ]
  },
  {
   "cell_type": "code",
   "execution_count": 10,
   "id": "09dd66c4",
   "metadata": {},
   "outputs": [
    {
     "name": "stdout",
     "output_type": "stream",
     "text": [
      "[tensor([1.0000, 0.9000, 3.6000, 3.0000, 0.9800])]\n"
     ]
    }
   ],
   "source": [
    "filteredBoxes = nms_pytorch(P, 0.5)\n",
    "print(filteredBoxes)"
   ]
  },
  {
   "cell_type": "code",
   "execution_count": 13,
   "id": "9ec76275",
   "metadata": {},
   "outputs": [
    {
     "name": "stdout",
     "output_type": "stream",
     "text": [
      "[tensor([1.0000, 0.9000, 3.6000, 3.0000, 0.9800]), tensor([1.0000, 1.0000, 3.0000, 3.0000, 0.9500]), tensor([1.0000, 1.0000, 3.0000, 4.0000, 0.9300])]\n"
     ]
    }
   ],
   "source": [
    "filteredBoxes = nms_pytorch(P, 0.8)\n",
    "print(filteredBoxes)"
   ]
  }
 ],
 "metadata": {
  "kernelspec": {
   "display_name": "Python 3 (ipykernel)",
   "language": "python",
   "name": "python3"
  },
  "language_info": {
   "codemirror_mode": {
    "name": "ipython",
    "version": 3
   },
   "file_extension": ".py",
   "mimetype": "text/x-python",
   "name": "python",
   "nbconvert_exporter": "python",
   "pygments_lexer": "ipython3",
   "version": "3.9.13"
  }
 },
 "nbformat": 4,
 "nbformat_minor": 5
}
